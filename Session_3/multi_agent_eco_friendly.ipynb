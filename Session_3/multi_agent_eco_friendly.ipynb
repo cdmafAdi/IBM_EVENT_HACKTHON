{
  "nbformat": 4,
  "nbformat_minor": 0,
  "metadata": {
    "colab": {
      "provenance": [],
      "include_colab_link": true
    },
    "kernelspec": {
      "name": "python3",
      "display_name": "Python 3"
    },
    "language_info": {
      "name": "python"
    }
  },
  "cells": [
    {
      "cell_type": "markdown",
      "metadata": {
        "id": "view-in-github",
        "colab_type": "text"
      },
      "source": [
        "<a href=\"https://colab.research.google.com/gist/cdmafAdi/758818e4e0029afc2aee1429020c3d9c/eco_friendly_multi_agent.ipynb\" target=\"_parent\"><img src=\"https://colab.research.google.com/assets/colab-badge.svg\" alt=\"Open In Colab\"/></a>"
      ]
    },
    {
      "cell_type": "code",
      "source": [
        "pip install replicate gradio duckduckgo-search"
      ],
      "metadata": {
        "colab": {
          "base_uri": "https://localhost:8080/"
        },
        "id": "E4SLm1VOqaWG",
        "outputId": "d03c5b30-9304-41a3-fa67-84b50512ea33"
      },
      "execution_count": 1,
      "outputs": [
        {
          "output_type": "stream",
          "name": "stdout",
          "text": [
            "Collecting replicate\n",
            "  Downloading replicate-1.0.7-py3-none-any.whl.metadata (29 kB)\n",
            "Requirement already satisfied: gradio in /usr/local/lib/python3.12/dist-packages (5.44.1)\n",
            "Collecting duckduckgo-search\n",
            "  Downloading duckduckgo_search-8.1.1-py3-none-any.whl.metadata (16 kB)\n",
            "Requirement already satisfied: httpx<1,>=0.21.0 in /usr/local/lib/python3.12/dist-packages (from replicate) (0.28.1)\n",
            "Requirement already satisfied: packaging in /usr/local/lib/python3.12/dist-packages (from replicate) (25.0)\n",
            "Requirement already satisfied: pydantic>1.10.7 in /usr/local/lib/python3.12/dist-packages (from replicate) (2.11.7)\n",
            "Requirement already satisfied: typing_extensions>=4.5.0 in /usr/local/lib/python3.12/dist-packages (from replicate) (4.15.0)\n",
            "Requirement already satisfied: aiofiles<25.0,>=22.0 in /usr/local/lib/python3.12/dist-packages (from gradio) (24.1.0)\n",
            "Requirement already satisfied: anyio<5.0,>=3.0 in /usr/local/lib/python3.12/dist-packages (from gradio) (4.10.0)\n",
            "Requirement already satisfied: brotli>=1.1.0 in /usr/local/lib/python3.12/dist-packages (from gradio) (1.1.0)\n",
            "Requirement already satisfied: fastapi<1.0,>=0.115.2 in /usr/local/lib/python3.12/dist-packages (from gradio) (0.116.1)\n",
            "Requirement already satisfied: ffmpy in /usr/local/lib/python3.12/dist-packages (from gradio) (0.6.1)\n",
            "Requirement already satisfied: gradio-client==1.12.1 in /usr/local/lib/python3.12/dist-packages (from gradio) (1.12.1)\n",
            "Requirement already satisfied: groovy~=0.1 in /usr/local/lib/python3.12/dist-packages (from gradio) (0.1.2)\n",
            "Requirement already satisfied: huggingface-hub<1.0,>=0.33.5 in /usr/local/lib/python3.12/dist-packages (from gradio) (0.34.4)\n",
            "Requirement already satisfied: jinja2<4.0 in /usr/local/lib/python3.12/dist-packages (from gradio) (3.1.6)\n",
            "Requirement already satisfied: markupsafe<4.0,>=2.0 in /usr/local/lib/python3.12/dist-packages (from gradio) (3.0.2)\n",
            "Requirement already satisfied: numpy<3.0,>=1.0 in /usr/local/lib/python3.12/dist-packages (from gradio) (2.0.2)\n",
            "Requirement already satisfied: orjson~=3.0 in /usr/local/lib/python3.12/dist-packages (from gradio) (3.11.3)\n",
            "Requirement already satisfied: pandas<3.0,>=1.0 in /usr/local/lib/python3.12/dist-packages (from gradio) (2.2.2)\n",
            "Requirement already satisfied: pillow<12.0,>=8.0 in /usr/local/lib/python3.12/dist-packages (from gradio) (11.3.0)\n",
            "Requirement already satisfied: pydub in /usr/local/lib/python3.12/dist-packages (from gradio) (0.25.1)\n",
            "Requirement already satisfied: python-multipart>=0.0.18 in /usr/local/lib/python3.12/dist-packages (from gradio) (0.0.20)\n",
            "Requirement already satisfied: pyyaml<7.0,>=5.0 in /usr/local/lib/python3.12/dist-packages (from gradio) (6.0.2)\n",
            "Requirement already satisfied: ruff>=0.9.3 in /usr/local/lib/python3.12/dist-packages (from gradio) (0.12.12)\n",
            "Requirement already satisfied: safehttpx<0.2.0,>=0.1.6 in /usr/local/lib/python3.12/dist-packages (from gradio) (0.1.6)\n",
            "Requirement already satisfied: semantic-version~=2.0 in /usr/local/lib/python3.12/dist-packages (from gradio) (2.10.0)\n",
            "Requirement already satisfied: starlette<1.0,>=0.40.0 in /usr/local/lib/python3.12/dist-packages (from gradio) (0.47.3)\n",
            "Requirement already satisfied: tomlkit<0.14.0,>=0.12.0 in /usr/local/lib/python3.12/dist-packages (from gradio) (0.13.3)\n",
            "Requirement already satisfied: typer<1.0,>=0.12 in /usr/local/lib/python3.12/dist-packages (from gradio) (0.17.4)\n",
            "Requirement already satisfied: uvicorn>=0.14.0 in /usr/local/lib/python3.12/dist-packages (from gradio) (0.35.0)\n",
            "Requirement already satisfied: fsspec in /usr/local/lib/python3.12/dist-packages (from gradio-client==1.12.1->gradio) (2025.3.0)\n",
            "Requirement already satisfied: websockets<16.0,>=10.0 in /usr/local/lib/python3.12/dist-packages (from gradio-client==1.12.1->gradio) (15.0.1)\n",
            "Requirement already satisfied: click>=8.1.8 in /usr/local/lib/python3.12/dist-packages (from duckduckgo-search) (8.2.1)\n",
            "Collecting primp>=0.15.0 (from duckduckgo-search)\n",
            "  Downloading primp-0.15.0-cp38-abi3-manylinux_2_17_x86_64.manylinux2014_x86_64.whl.metadata (13 kB)\n",
            "Requirement already satisfied: lxml>=5.3.0 in /usr/local/lib/python3.12/dist-packages (from duckduckgo-search) (5.4.0)\n",
            "Requirement already satisfied: idna>=2.8 in /usr/local/lib/python3.12/dist-packages (from anyio<5.0,>=3.0->gradio) (3.10)\n",
            "Requirement already satisfied: sniffio>=1.1 in /usr/local/lib/python3.12/dist-packages (from anyio<5.0,>=3.0->gradio) (1.3.1)\n",
            "Requirement already satisfied: certifi in /usr/local/lib/python3.12/dist-packages (from httpx<1,>=0.21.0->replicate) (2025.8.3)\n",
            "Requirement already satisfied: httpcore==1.* in /usr/local/lib/python3.12/dist-packages (from httpx<1,>=0.21.0->replicate) (1.0.9)\n",
            "Requirement already satisfied: h11>=0.16 in /usr/local/lib/python3.12/dist-packages (from httpcore==1.*->httpx<1,>=0.21.0->replicate) (0.16.0)\n",
            "Requirement already satisfied: filelock in /usr/local/lib/python3.12/dist-packages (from huggingface-hub<1.0,>=0.33.5->gradio) (3.19.1)\n",
            "Requirement already satisfied: requests in /usr/local/lib/python3.12/dist-packages (from huggingface-hub<1.0,>=0.33.5->gradio) (2.32.4)\n",
            "Requirement already satisfied: tqdm>=4.42.1 in /usr/local/lib/python3.12/dist-packages (from huggingface-hub<1.0,>=0.33.5->gradio) (4.67.1)\n",
            "Requirement already satisfied: hf-xet<2.0.0,>=1.1.3 in /usr/local/lib/python3.12/dist-packages (from huggingface-hub<1.0,>=0.33.5->gradio) (1.1.9)\n",
            "Requirement already satisfied: python-dateutil>=2.8.2 in /usr/local/lib/python3.12/dist-packages (from pandas<3.0,>=1.0->gradio) (2.9.0.post0)\n",
            "Requirement already satisfied: pytz>=2020.1 in /usr/local/lib/python3.12/dist-packages (from pandas<3.0,>=1.0->gradio) (2025.2)\n",
            "Requirement already satisfied: tzdata>=2022.7 in /usr/local/lib/python3.12/dist-packages (from pandas<3.0,>=1.0->gradio) (2025.2)\n",
            "Requirement already satisfied: annotated-types>=0.6.0 in /usr/local/lib/python3.12/dist-packages (from pydantic>1.10.7->replicate) (0.7.0)\n",
            "Requirement already satisfied: pydantic-core==2.33.2 in /usr/local/lib/python3.12/dist-packages (from pydantic>1.10.7->replicate) (2.33.2)\n",
            "Requirement already satisfied: typing-inspection>=0.4.0 in /usr/local/lib/python3.12/dist-packages (from pydantic>1.10.7->replicate) (0.4.1)\n",
            "Requirement already satisfied: shellingham>=1.3.0 in /usr/local/lib/python3.12/dist-packages (from typer<1.0,>=0.12->gradio) (1.5.4)\n",
            "Requirement already satisfied: rich>=10.11.0 in /usr/local/lib/python3.12/dist-packages (from typer<1.0,>=0.12->gradio) (13.9.4)\n",
            "Requirement already satisfied: six>=1.5 in /usr/local/lib/python3.12/dist-packages (from python-dateutil>=2.8.2->pandas<3.0,>=1.0->gradio) (1.17.0)\n",
            "Requirement already satisfied: markdown-it-py>=2.2.0 in /usr/local/lib/python3.12/dist-packages (from rich>=10.11.0->typer<1.0,>=0.12->gradio) (4.0.0)\n",
            "Requirement already satisfied: pygments<3.0.0,>=2.13.0 in /usr/local/lib/python3.12/dist-packages (from rich>=10.11.0->typer<1.0,>=0.12->gradio) (2.19.2)\n",
            "Requirement already satisfied: charset_normalizer<4,>=2 in /usr/local/lib/python3.12/dist-packages (from requests->huggingface-hub<1.0,>=0.33.5->gradio) (3.4.3)\n",
            "Requirement already satisfied: urllib3<3,>=1.21.1 in /usr/local/lib/python3.12/dist-packages (from requests->huggingface-hub<1.0,>=0.33.5->gradio) (2.5.0)\n",
            "Requirement already satisfied: mdurl~=0.1 in /usr/local/lib/python3.12/dist-packages (from markdown-it-py>=2.2.0->rich>=10.11.0->typer<1.0,>=0.12->gradio) (0.1.2)\n",
            "Downloading replicate-1.0.7-py3-none-any.whl (48 kB)\n",
            "\u001b[2K   \u001b[90m━━━━━━━━━━━━━━━━━━━━━━━━━━━━━━━━━━━━━━━━\u001b[0m \u001b[32m48.6/48.6 kB\u001b[0m \u001b[31m2.8 MB/s\u001b[0m eta \u001b[36m0:00:00\u001b[0m\n",
            "\u001b[?25hDownloading duckduckgo_search-8.1.1-py3-none-any.whl (18 kB)\n",
            "Downloading primp-0.15.0-cp38-abi3-manylinux_2_17_x86_64.manylinux2014_x86_64.whl (3.3 MB)\n",
            "\u001b[2K   \u001b[90m━━━━━━━━━━━━━━━━━━━━━━━━━━━━━━━━━━━━━━━━\u001b[0m \u001b[32m3.3/3.3 MB\u001b[0m \u001b[31m50.6 MB/s\u001b[0m eta \u001b[36m0:00:00\u001b[0m\n",
            "\u001b[?25hInstalling collected packages: primp, duckduckgo-search, replicate\n",
            "Successfully installed duckduckgo-search-8.1.1 primp-0.15.0 replicate-1.0.7\n"
          ]
        }
      ]
    },
    {
      "cell_type": "code",
      "source": [
        "import os\n",
        "import replicate\n",
        "import gradio as gr\n",
        "from duckduckgo_search import DDGS\n",
        "\n",
        "# 🔐 Replicate API Token (Recommended: store in .env or input box)\n",
        "REPLICATE_API_TOKEN = \"r8_BQu9uxNcWbj0xmlQPrqLoWUyRcsxva61K67VZ\"  # Replace with your token\n",
        "client = replicate.Client(api_token=REPLICATE_API_TOKEN)\n",
        "\n",
        "# 🧠 IBM Granite Model ID\n",
        "GRANITE_MODEL = \"ibm-granite/granite-3.3-8b-instruct\"\n",
        "\n",
        "# 🔎 RAG Search via DuckDuckGo (trusted sources)\n",
        "def search_duckduckgo(query):\n",
        "    try:\n",
        "        with DDGS() as ddgs:\n",
        "            results = ddgs.text(\n",
        "                f\"{query} site:gov OR site:org OR site:nationalgeographic.com OR site:carbontrust.com OR site:greenpeace.org\",\n",
        "                max_results=3\n",
        "            )\n",
        "            return \"\\n\".join([f\"- {r['title']}: {r['href']}\" for r in results])\n",
        "    except Exception as e:\n",
        "        return \"- No external sources found or error during search.\"\n",
        "\n",
        "# 🤖 Call IBM Granite via Replicate\n",
        "def query_replicate(prompt):\n",
        "    try:\n",
        "        output = client.run(GRANITE_MODEL, input={\"prompt\": prompt, \"max_new_tokens\": 350})\n",
        "        return \"\".join(output)\n",
        "    except Exception as e:\n",
        "        return f\"❌ Error from Replicate: {str(e)}\"\n",
        "\n",
        "# 🌱 Agent 1: Eco Lifestyle Agent\n",
        "def eco_lifestyle_agent(user_prompt, location, category):\n",
        "    search_query = f\"{user_prompt} {category} in {location}\" if location else f\"{user_prompt} {category}\"\n",
        "    sources = search_duckduckgo(search_query)\n",
        "    if not sources.strip():\n",
        "        sources = \"- No sources found. Providing general sustainability practices.\"\n",
        "\n",
        "    system_prompt = (\n",
        "        f\"You are Eco Lifestyle AI, helping users adopt a greener lifestyle.\\n\"\n",
        "        f\"Focus: personalized sustainable living advice, eco tips, and awareness.\\n\"\n",
        "        f\"User Location: {location or 'unspecified'} | Topic: {category}\\n\"\n",
        "        f\"User Query: {user_prompt}\\n\\nSources:\\n{sources}\\n\\nAnswer:\"\n",
        "    )\n",
        "    return query_replicate(system_prompt)\n",
        "\n",
        "# 🛍️ Agent 2: Eco Product Finder\n",
        "def eco_product_agent(user_prompt, location):\n",
        "    search_query = f\"{user_prompt} eco-friendly product {location}\"\n",
        "    sources = search_duckduckgo(search_query)\n",
        "    if not sources.strip():\n",
        "        sources = \"- No product results found. Giving general eco product advice.\"\n",
        "\n",
        "    system_prompt = (\n",
        "        f\"You are Eco Product Finder. Recommend eco-friendly product alternatives.\\n\"\n",
        "        f\"Location: {location or 'global'} | Query: {user_prompt}\\n\"\n",
        "        f\"Sources:\\n{sources}\\n\\nSuggest green, sustainable, ethical alternatives with brief explanation.\"\n",
        "    )\n",
        "    return query_replicate(system_prompt)\n",
        "\n",
        "# 🔄 Agent 3: Recycling Rules Bot\n",
        "def recycling_rules_agent(user_prompt, location):\n",
        "    search_query = f\"{user_prompt} recycling rules in {location}\"\n",
        "    sources = search_duckduckgo(search_query)\n",
        "    if not sources.strip():\n",
        "        sources = \"- No local rules found. Sharing general recycling guidelines.\"\n",
        "\n",
        "    system_prompt = (\n",
        "        f\"You are Recycling Rules Bot. Help users understand recycling rules.\\n\"\n",
        "        f\"Location: {location or 'not specified'} | Query: {user_prompt}\\n\"\n",
        "        f\"Sources:\\n{sources}\\n\\nAnswer:\"\n",
        "    )\n",
        "    return query_replicate(system_prompt)\n",
        "\n",
        "# 🎨 Gradio Interface\n",
        "with gr.Blocks() as demo:\n",
        "    gr.Markdown(\"# 🌿 Multi-Agent Eco Assistant\")\n",
        "    gr.Markdown(\"Powered by IBM Granite + RAG | Get green lifestyle tips, product suggestions, and recycling help.\")\n",
        "\n",
        "    with gr.Tabs():\n",
        "        with gr.Tab(\"🌱 Eco Lifestyle Agent\"):\n",
        "            q1 = gr.Textbox(label=\"Ask about green lifestyle\")\n",
        "            l1 = gr.Textbox(label=\"Your location\", placeholder=\"e.g., Mumbai\")\n",
        "            c1 = gr.Dropdown(choices=[\"Home\", \"Travel\", \"Shopping\", \"Recycling\", \"Energy\", \"Diet\", \"General\"], value=\"General\", label=\"Topic\")\n",
        "            out1 = gr.Textbox(label=\"Response\")\n",
        "            btn1 = gr.Button(\"Get Advice\")\n",
        "            btn1.click(eco_lifestyle_agent, inputs=[q1, l1, c1], outputs=out1)\n",
        "\n",
        "        with gr.Tab(\"🛍️ Eco Product Finder\"):\n",
        "            q2 = gr.Textbox(label=\"Product query\", placeholder=\"e.g., eco-friendly shampoo\")\n",
        "            l2 = gr.Textbox(label=\"Your location\", placeholder=\"e.g., India\")\n",
        "            out2 = gr.Textbox(label=\"Product Suggestions\")\n",
        "            btn2 = gr.Button(\"Find Products\")\n",
        "            btn2.click(eco_product_agent, inputs=[q2, l2], outputs=out2)\n",
        "\n",
        "        with gr.Tab(\"🔄 Recycling Rules Bot\"):\n",
        "            q3 = gr.Textbox(label=\"Recycling question\", placeholder=\"e.g., Can I recycle bubble wrap?\")\n",
        "            l3 = gr.Textbox(label=\"Your location\", placeholder=\"e.g., Delhi\")\n",
        "            out3 = gr.Textbox(label=\"Recycling Guidance\")\n",
        "            btn3 = gr.Button(\"Check Rules\")\n",
        "            btn3.click(recycling_rules_agent, inputs=[q3, l3], outputs=out3)\n",
        "\n",
        "demo.launch(share=True)"
      ],
      "metadata": {
        "colab": {
          "base_uri": "https://localhost:8080/",
          "height": 611
        },
        "id": "sjLQOhcYu1qh",
        "outputId": "4d417435-70d8-4bd4-ac67-df4add576281"
      },
      "execution_count": 2,
      "outputs": [
        {
          "output_type": "stream",
          "name": "stdout",
          "text": [
            "Colab notebook detected. To show errors in colab notebook, set debug=True in launch()\n",
            "* Running on public URL: https://9d055f576b30142e3a.gradio.live\n",
            "\n",
            "This share link expires in 1 week. For free permanent hosting and GPU upgrades, run `gradio deploy` from the terminal in the working directory to deploy to Hugging Face Spaces (https://huggingface.co/spaces)\n"
          ]
        },
        {
          "output_type": "display_data",
          "data": {
            "text/plain": [
              "<IPython.core.display.HTML object>"
            ],
            "text/html": [
              "<div><iframe src=\"https://9d055f576b30142e3a.gradio.live\" width=\"100%\" height=\"500\" allow=\"autoplay; camera; microphone; clipboard-read; clipboard-write;\" frameborder=\"0\" allowfullscreen></iframe></div>"
            ]
          },
          "metadata": {}
        },
        {
          "output_type": "execute_result",
          "data": {
            "text/plain": []
          },
          "metadata": {},
          "execution_count": 2
        }
      ]
    }
  ]
}
